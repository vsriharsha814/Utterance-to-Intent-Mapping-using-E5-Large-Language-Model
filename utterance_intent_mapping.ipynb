{
 "cells": [
  {
   "cell_type": "code",
   "execution_count": 1,
   "id": "a0cefa06",
   "metadata": {},
   "outputs": [
    {
     "name": "stderr",
     "output_type": "stream",
     "text": [
      "/home/sriharsha/Documents/personal/utterance_intent_mapping/venv/lib/python3.8/site-packages/tqdm/auto.py:21: TqdmWarning: IProgress not found. Please update jupyter and ipywidgets. See https://ipywidgets.readthedocs.io/en/stable/user_install.html\n",
      "  from .autonotebook import tqdm as notebook_tqdm\n"
     ]
    }
   ],
   "source": [
    "import numpy as np\n",
    "import pandas as pd\n",
    "import faiss\n",
    "from sentence_transformers import SentenceTransformer\n",
    "model = SentenceTransformer('intfloat/e5-large-v2')"
   ]
  },
  {
   "cell_type": "code",
   "execution_count": 2,
   "id": "ffb78792-7f13-483c-8717-24c96f25c5b4",
   "metadata": {},
   "outputs": [
    {
     "name": "stdout",
     "output_type": "stream",
     "text": [
      "Requirement already satisfied: openpyxl in ./venv/lib/python3.8/site-packages (3.1.2)\n",
      "Requirement already satisfied: et-xmlfile in ./venv/lib/python3.8/site-packages (from openpyxl) (1.1.0)\n",
      "\n",
      "\u001b[1m[\u001b[0m\u001b[34;49mnotice\u001b[0m\u001b[1;39;49m]\u001b[0m\u001b[39;49m A new release of pip is available: \u001b[0m\u001b[31;49m23.3.1\u001b[0m\u001b[39;49m -> \u001b[0m\u001b[32;49m23.3.2\u001b[0m\n",
      "\u001b[1m[\u001b[0m\u001b[34;49mnotice\u001b[0m\u001b[1;39;49m]\u001b[0m\u001b[39;49m To update, run: \u001b[0m\u001b[32;49mpip install --upgrade pip\u001b[0m\n"
     ]
    }
   ],
   "source": [
    "!pip install openpyxl"
   ]
  },
  {
   "cell_type": "code",
   "execution_count": 21,
   "id": "87b87ad9",
   "metadata": {},
   "outputs": [],
   "source": [
    "df = pd.read_excel(\"intents_list.xlsx\", sheet_name='Refined-Intents-Variation')"
   ]
  },
  {
   "cell_type": "code",
   "execution_count": 23,
   "id": "9cd11922-259b-4d09-a893-c4b554de20d4",
   "metadata": {},
   "outputs": [],
   "source": [
    "embeddings = model.encode(df.utterance.tolist()).tolist()"
   ]
  },
  {
   "cell_type": "code",
   "execution_count": 24,
   "id": "42c93214-5646-484a-a23b-d7f55a1b13ce",
   "metadata": {},
   "outputs": [],
   "source": [
    "np.save('embeddings.npy', embeddings)"
   ]
  },
  {
   "cell_type": "code",
   "execution_count": 25,
   "id": "e0df613f-ae22-491f-9df0-8948c136b6eb",
   "metadata": {},
   "outputs": [
    {
     "data": {
      "text/plain": [
       "7422"
      ]
     },
     "execution_count": 25,
     "metadata": {},
     "output_type": "execute_result"
    }
   ],
   "source": [
    "len(embeddings)"
   ]
  },
  {
   "cell_type": "code",
   "execution_count": 26,
   "id": "f98aa779",
   "metadata": {},
   "outputs": [],
   "source": [
    "embeddings = np.load(\"embeddings.npy\")"
   ]
  },
  {
   "cell_type": "code",
   "execution_count": 27,
   "id": "3601e2be",
   "metadata": {},
   "outputs": [],
   "source": [
    "def create_index(embeddings):\n",
    "    index = faiss.IndexFlatL2(1024)\n",
    "    index.add(embeddings)\n",
    "    return index"
   ]
  },
  {
   "cell_type": "code",
   "execution_count": 28,
   "id": "4d5f64cc",
   "metadata": {},
   "outputs": [],
   "source": [
    "index = create_index(embeddings)\n",
    "def get_intent(input):\n",
    "    user_query_embeddings = model.encode(input)\n",
    "    score, ids = index.search(user_query_embeddings.reshape(1,1024), k = 3)\n",
    "    return ids[0][0], score[0][0]"
   ]
  },
  {
   "cell_type": "code",
   "execution_count": 29,
   "id": "c2c9e827",
   "metadata": {},
   "outputs": [
    {
     "name": "stdout",
     "output_type": "stream",
     "text": [
      "\n",
      " id: 384 \n",
      " score: 0.1780797839164734\n",
      "Apply reportee leave\n",
      "apply_leave_reportee\n"
     ]
    }
   ],
   "source": [
    "input = \"check reportee tenure\"\n",
    "id,  score = get_intent(input)\n",
    "print(f\"\\n id: {id} \\n score: {score}\")\n",
    "\n",
    "print(df.loc[int(id), 'utterance'])\n",
    "print(df.loc[int(id), 'intent'])"
   ]
  },
  {
   "cell_type": "code",
   "execution_count": 38,
   "id": "f583e0ab",
   "metadata": {},
   "outputs": [],
   "source": [
    "lo = embeddings[0]"
   ]
  },
  {
   "cell_type": "code",
   "execution_count": 41,
   "id": "10061718-dc69-4570-bdea-777bb3039b88",
   "metadata": {},
   "outputs": [],
   "source": [
    "lo_2d = lo.reshape(2, 512)"
   ]
  },
  {
   "cell_type": "code",
   "execution_count": 43,
   "id": "90ee1e0b-2a82-49e7-8c52-51621d15ea6c",
   "metadata": {},
   "outputs": [
    {
     "data": {
      "text/plain": [
       "(2, 512)"
      ]
     },
     "execution_count": 43,
     "metadata": {},
     "output_type": "execute_result"
    }
   ],
   "source": [
    "lo_2d.shape"
   ]
  },
  {
   "cell_type": "code",
   "execution_count": null,
   "id": "86278b1a-f470-49da-a6b9-f8fb253f7b14",
   "metadata": {},
   "outputs": [],
   "source": []
  }
 ],
 "metadata": {
  "kernelspec": {
   "display_name": "Python 3 (ipykernel)",
   "language": "python",
   "name": "python3"
  },
  "language_info": {
   "codemirror_mode": {
    "name": "ipython",
    "version": 3
   },
   "file_extension": ".py",
   "mimetype": "text/x-python",
   "name": "python",
   "nbconvert_exporter": "python",
   "pygments_lexer": "ipython3",
   "version": "3.8.10"
  }
 },
 "nbformat": 4,
 "nbformat_minor": 5
}
